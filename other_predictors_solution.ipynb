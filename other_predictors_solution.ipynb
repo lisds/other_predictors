{
 "cells": [
  {
   "cell_type": "markdown",
   "id": "7ff46a88",
   "metadata": {},
   "source": [
    "# Other predictors\n",
    "\n",
    "This exercise is a chance to practice working with predictors.\n",
    "\n",
    "First, set up the tests and imports by running the cell below."
   ]
  },
  {
   "cell_type": "code",
   "execution_count": 1,
   "id": "e1e75356",
   "metadata": {
    "execution": {
     "iopub.execute_input": "2023-02-21T09:25:13.893812Z",
     "iopub.status.busy": "2023-02-21T09:25:13.893464Z",
     "iopub.status.idle": "2023-02-21T09:25:14.648847Z",
     "shell.execute_reply": "2023-02-21T09:25:14.648494Z"
    }
   },
   "outputs": [],
   "source": [
    "# Run this cell.\n",
    "import numpy as np\n",
    "import pandas as pd\n",
    "import matplotlib.pyplot as plt\n",
    "plt.style.use('fivethirtyeight')\n",
    "\n",
    "# These lines load the tests.\n",
    "from client.api.notebook import Notebook\n",
    "ok = Notebook('other_predictors.ok')"
   ]
  },
  {
   "cell_type": "markdown",
   "id": "1179eddd",
   "metadata": {},
   "source": [
    "We were studying prediction errors [the meaning of the mean](https://lisds.github.io/textbook/mean-slopes/mean_meaning) notebook.\n",
    "\n",
    "In that notebook, you see the assertions that, *for any sequence of numbers*:\n",
    "\n",
    "* The mean gives the lowest sum of prediction errors (and therefore, mean\n",
    "  prediction error);\n",
    "* The mean gives the lowest sum of squared prediction error (and therefore mean\n",
    "  squared prediction error).\n",
    "\n",
    "As you remember, if you have a value $c$ that is a *predictor*, then you get the prediction error for every element in your sequence, by subtracting $c$ from that element.\n",
    "\n",
    "To be more specific, lets look at some [data on chronic kidney disease](https://lisds.github.io/textbook/data/chronic_kidney_disease).\n",
    "\n",
    "This is a data table with one row per patient and one column per test on that patient.  Many of columns are values from blood tests.  Most of the patients have chronic kidney disease."
   ]
  },
  {
   "cell_type": "code",
   "execution_count": 2,
   "id": "b1b4bd5b",
   "metadata": {
    "execution": {
     "iopub.execute_input": "2023-02-21T09:25:14.651038Z",
     "iopub.status.busy": "2023-02-21T09:25:14.650790Z",
     "iopub.status.idle": "2023-02-21T09:25:14.671333Z",
     "shell.execute_reply": "2023-02-21T09:25:14.670978Z"
    }
   },
   "outputs": [],
   "source": [
    "# Run this cell\n",
    "ckd = pd.read_csv('ckd_clean.csv')\n",
    "ckd.head()"
   ]
  },
  {
   "cell_type": "markdown",
   "id": "1007f473",
   "metadata": {},
   "source": [
    "We are interested in the column 'White Blood Cell Count'.\n",
    "\n",
    "Make a new variable `wbc` that is a Series containing the \"White Blood Cell Count\" data.  Do a histogram of these values:"
   ]
  },
  {
   "cell_type": "code",
   "execution_count": 3,
   "id": "7673f429",
   "metadata": {
    "execution": {
     "iopub.execute_input": "2023-02-21T09:25:14.673186Z",
     "iopub.status.busy": "2023-02-21T09:25:14.673039Z",
     "iopub.status.idle": "2023-02-21T09:25:14.803681Z",
     "shell.execute_reply": "2023-02-21T09:25:14.803330Z"
    }
   },
   "outputs": [],
   "source": [
    "wbc = ckd['White Blood Cell Count']\n",
    "wbc.hist()\n",
    "wbc.head()"
   ]
  },
  {
   "cell_type": "code",
   "execution_count": 4,
   "id": "71df177f",
   "metadata": {
    "execution": {
     "iopub.execute_input": "2023-02-21T09:25:14.805671Z",
     "iopub.status.busy": "2023-02-21T09:25:14.805519Z",
     "iopub.status.idle": "2023-02-21T09:25:14.821827Z",
     "shell.execute_reply": "2023-02-21T09:25:14.821423Z"
    }
   },
   "outputs": [],
   "source": [
    "_ = ok.grade('q_1_wbc')"
   ]
  },
  {
   "cell_type": "markdown",
   "id": "d7919d73",
   "metadata": {},
   "source": [
    "Could these values plausibly have been drawn from a normal distribution?\n",
    "\n",
    "Assign either 1, 2, or 3 to the name `wbc_likely_normal` below.\n",
    "\n",
    "1. Yes, that's plausible.\n",
    "2. There isn't enough evidence to be confident either way.\n",
    "3. No, that's not plausible."
   ]
  },
  {
   "cell_type": "code",
   "execution_count": 5,
   "id": "f4096bab",
   "metadata": {
    "execution": {
     "iopub.execute_input": "2023-02-21T09:25:14.825655Z",
     "iopub.status.busy": "2023-02-21T09:25:14.825508Z",
     "iopub.status.idle": "2023-02-21T09:25:14.827481Z",
     "shell.execute_reply": "2023-02-21T09:25:14.827167Z"
    }
   },
   "outputs": [],
   "source": [
    "wbc_likely_normal = 3"
   ]
  },
  {
   "cell_type": "code",
   "execution_count": 6,
   "id": "593440e9",
   "metadata": {
    "execution": {
     "iopub.execute_input": "2023-02-21T09:25:14.829207Z",
     "iopub.status.busy": "2023-02-21T09:25:14.829085Z",
     "iopub.status.idle": "2023-02-21T09:25:14.837589Z",
     "shell.execute_reply": "2023-02-21T09:25:14.837229Z"
    }
   },
   "outputs": [],
   "source": [
    "_ = ok.grade('q_2_wbc_likely_normal')"
   ]
  },
  {
   "cell_type": "markdown",
   "id": "bae38930",
   "metadata": {},
   "source": [
    "## Mean square error\n",
    "\n",
    "Make a function called `mean_sq_err` that accepts two inputs:\n",
    "\n",
    "1. a sequence of numbers\n",
    "1. a predictor (a single number)\n",
    "\n",
    "It returns the mean of the squared prediction errors.\n",
    "\n",
    "For example, say the sequence of numbers was `np.array([3, 4])`, and your\n",
    "predictor was 5.  Then the sum of squared prediction errors is `(3 - 5) **\n",
    "2 + (4 - 5) ** 2` = `5`, and the mean of the squared prediction errors is `5 / 2` = 2.5.\n"
   ]
  },
  {
   "cell_type": "code",
   "execution_count": 7,
   "id": "371a4cb4",
   "metadata": {
    "execution": {
     "iopub.execute_input": "2023-02-21T09:25:14.841144Z",
     "iopub.status.busy": "2023-02-21T09:25:14.841008Z",
     "iopub.status.idle": "2023-02-21T09:25:14.843178Z",
     "shell.execute_reply": "2023-02-21T09:25:14.842845Z"
    }
   },
   "outputs": [],
   "source": [
    "def mean_sq_err(seq, p):\n",
    "    pred_errs = seq - p\n",
    "    sq_pred_errs = pred_errs ** 2\n",
    "    return np.mean(sq_pred_errs)"
   ]
  },
  {
   "cell_type": "markdown",
   "id": "999756cc",
   "metadata": {},
   "source": [
    "Simple test with the following:"
   ]
  },
  {
   "cell_type": "code",
   "execution_count": 8,
   "id": "6743932e",
   "metadata": {
    "execution": {
     "iopub.execute_input": "2023-02-21T09:25:14.845078Z",
     "iopub.status.busy": "2023-02-21T09:25:14.844934Z",
     "iopub.status.idle": "2023-02-21T09:25:14.848819Z",
     "shell.execute_reply": "2023-02-21T09:25:14.848447Z"
    }
   },
   "outputs": [],
   "source": [
    "print(mean_sq_err(np.array([3, 4]), 5))  # Should show 2.5\n",
    "print(mean_sq_err(np.array([3, 5]), 4))  # Should show 1\n",
    "print(mean_sq_err(np.array([2, 3, 5]), 4))  # Should show 2"
   ]
  },
  {
   "cell_type": "code",
   "execution_count": 9,
   "id": "ef722272",
   "metadata": {
    "execution": {
     "iopub.execute_input": "2023-02-21T09:25:14.851352Z",
     "iopub.status.busy": "2023-02-21T09:25:14.851236Z",
     "iopub.status.idle": "2023-02-21T09:25:14.861014Z",
     "shell.execute_reply": "2023-02-21T09:25:14.860641Z"
    }
   },
   "outputs": [],
   "source": [
    "_ = ok.grade('q_6_mse_func')"
   ]
  },
  {
   "cell_type": "markdown",
   "id": "c171974a",
   "metadata": {},
   "source": [
    "Use this function to calculate the mean squared error of `wbc` for candidate\n",
    "predictors from 7000, up to, but not including 10000, in steps of 0.5.  Your\n",
    "predictors should include 7000, 7000.5, 7001.0 ... 9999.5, and you should\n",
    "calculate a mean squared error for `wbc`, for each predictor."
   ]
  },
  {
   "cell_type": "code",
   "execution_count": 10,
   "id": "f7e25a16",
   "metadata": {
    "execution": {
     "iopub.execute_input": "2023-02-21T09:25:14.864510Z",
     "iopub.status.busy": "2023-02-21T09:25:14.864371Z",
     "iopub.status.idle": "2023-02-21T09:25:15.534496Z",
     "shell.execute_reply": "2023-02-21T09:25:15.534093Z"
    }
   },
   "outputs": [],
   "source": [
    "predictors = np.arange(7000, 10000, 0.5)\n",
    "n_predictors = len(predictors)\n",
    "mse_for_predictors = np.zeros(n_predictors)\n",
    "for i in np.arange(n_predictors):\n",
    "    mse_for_predictors[i] = mean_sq_err(wbc, predictors[i])\n",
    "# Show the first five mean squared error values.\n",
    "mse_for_predictors[:5]"
   ]
  },
  {
   "cell_type": "code",
   "execution_count": 11,
   "id": "5a074783",
   "metadata": {
    "execution": {
     "iopub.execute_input": "2023-02-21T09:25:15.536507Z",
     "iopub.status.busy": "2023-02-21T09:25:15.536343Z",
     "iopub.status.idle": "2023-02-21T09:25:15.553568Z",
     "shell.execute_reply": "2023-02-21T09:25:15.553201Z"
    }
   },
   "outputs": [],
   "source": [
    "_ = ok.grade('q_7_mse_for_predictors')"
   ]
  },
  {
   "cell_type": "markdown",
   "id": "5694fe58",
   "metadata": {},
   "source": [
    "Plot the `predictors` on the x axis against `mse_for_predictors` on the y axis."
   ]
  },
  {
   "cell_type": "code",
   "execution_count": 12,
   "id": "908460bb",
   "metadata": {
    "execution": {
     "iopub.execute_input": "2023-02-21T09:25:15.557464Z",
     "iopub.status.busy": "2023-02-21T09:25:15.557313Z",
     "iopub.status.idle": "2023-02-21T09:25:15.646962Z",
     "shell.execute_reply": "2023-02-21T09:25:15.646613Z"
    }
   },
   "outputs": [],
   "source": [
    "#- Plot mse_for_predictors against predictors\n",
    "plt.plot(predictors, mse_for_predictors)"
   ]
  },
  {
   "cell_type": "markdown",
   "id": "014b6231",
   "metadata": {},
   "source": [
    "Now calculate the mean squared error for `wbc` using the mean as a predictor.\n",
    "Subtract this value from the minimum of `mse_for_predictors` and put the result\n",
    "into the variable `best_vs_mean`:"
   ]
  },
  {
   "cell_type": "code",
   "execution_count": 13,
   "id": "a88da602",
   "metadata": {
    "execution": {
     "iopub.execute_input": "2023-02-21T09:25:15.648964Z",
     "iopub.status.busy": "2023-02-21T09:25:15.648813Z",
     "iopub.status.idle": "2023-02-21T09:25:15.651862Z",
     "shell.execute_reply": "2023-02-21T09:25:15.651554Z"
    }
   },
   "outputs": [],
   "source": [
    "best_vs_mean = np.min(mse_for_predictors) - mean_sq_err(wbc, wbc.mean())\n",
    "best_vs_mean"
   ]
  },
  {
   "cell_type": "code",
   "execution_count": 14,
   "id": "fb7ade03",
   "metadata": {
    "execution": {
     "iopub.execute_input": "2023-02-21T09:25:15.653645Z",
     "iopub.status.busy": "2023-02-21T09:25:15.653534Z",
     "iopub.status.idle": "2023-02-21T09:25:15.662770Z",
     "shell.execute_reply": "2023-02-21T09:25:15.662352Z"
    }
   },
   "outputs": [],
   "source": [
    "_ = ok.grade('q_8_best_vs_mean')"
   ]
  },
  {
   "cell_type": "markdown",
   "id": "35833a32",
   "metadata": {},
   "source": [
    "Calculate the median of `wbc`, calculate the mean squared error for `wbc` using the median as predictor, and subtract the mean squared error using the mean as predictor, putting the result into `median_vs_mean`"
   ]
  },
  {
   "cell_type": "code",
   "execution_count": 15,
   "id": "3be662f8",
   "metadata": {
    "execution": {
     "iopub.execute_input": "2023-02-21T09:25:15.666401Z",
     "iopub.status.busy": "2023-02-21T09:25:15.666261Z",
     "iopub.status.idle": "2023-02-21T09:25:15.670383Z",
     "shell.execute_reply": "2023-02-21T09:25:15.670007Z"
    }
   },
   "outputs": [],
   "source": [
    "mse_for_median = mean_sq_err(wbc, wbc.median())\n",
    "median_vs_mean = mse_for_median - mean_sq_err(wbc, wbc.mean())\n",
    "median_vs_mean"
   ]
  },
  {
   "cell_type": "code",
   "execution_count": 16,
   "id": "29d7d811",
   "metadata": {
    "execution": {
     "iopub.execute_input": "2023-02-21T09:25:15.672206Z",
     "iopub.status.busy": "2023-02-21T09:25:15.672087Z",
     "iopub.status.idle": "2023-02-21T09:25:15.681293Z",
     "shell.execute_reply": "2023-02-21T09:25:15.680730Z"
    }
   },
   "outputs": [],
   "source": [
    "_ = ok.grade('q_9_median_vs_mean')"
   ]
  },
  {
   "cell_type": "markdown",
   "id": "96df2000",
   "metadata": {},
   "source": [
    "## Mean absolute error\n",
    "\n",
    "You have dealt with one measure of a predictor - the mean square prediction\n",
    "error.\n",
    "\n",
    "Another measure of a predictor is its ability to reduce the *absolute* error.\n",
    "\n",
    "For example, say we have a sequence `3, 4`, and a predictor `5`.  The absolute\n",
    "errors are `abs(3 - 5), abs(4 - 5)`, and the mean absolute error is then\n",
    "(2 + 1) / 2 = 1.5.\n",
    "\n",
    "Before you continue, take some time to think whether you think the mean or the\n",
    "median will do a better job here.  Write down your answer *on the piece of\n",
    "paper you already had next to you on the desk*!\n",
    "\n",
    "Write a function `mean_abs_err` to do this prediction for a sequence `seq` and\n",
    "a predictor `p`.\n",
    "\n",
    "*Hint*: remember the Numpy function to return the absolute values in an array."
   ]
  },
  {
   "cell_type": "code",
   "execution_count": 17,
   "id": "2377e376",
   "metadata": {
    "execution": {
     "iopub.execute_input": "2023-02-21T09:25:15.684880Z",
     "iopub.status.busy": "2023-02-21T09:25:15.684628Z",
     "iopub.status.idle": "2023-02-21T09:25:15.686871Z",
     "shell.execute_reply": "2023-02-21T09:25:15.686562Z"
    }
   },
   "outputs": [],
   "source": [
    "def mean_abs_err(seq, p):\n",
    "    abs_pred_errs = np.abs(seq - p)\n",
    "    return np.mean(abs_pred_errs)"
   ]
  },
  {
   "cell_type": "markdown",
   "id": "713476e4",
   "metadata": {},
   "source": [
    "Simple test with the following:"
   ]
  },
  {
   "cell_type": "code",
   "execution_count": 18,
   "id": "8ede2805",
   "metadata": {
    "execution": {
     "iopub.execute_input": "2023-02-21T09:25:15.688708Z",
     "iopub.status.busy": "2023-02-21T09:25:15.688563Z",
     "iopub.status.idle": "2023-02-21T09:25:15.692762Z",
     "shell.execute_reply": "2023-02-21T09:25:15.692477Z"
    }
   },
   "outputs": [],
   "source": [
    "print(mean_abs_err(np.array([3, 4]), 5))  # Should show 1.5\n",
    "print(mean_abs_err(np.array([3, 5]), 4))  # Should show 1\n",
    "print(mean_abs_err(np.array([2, 3, 5]), 4))  # Should show 1.333 ish"
   ]
  },
  {
   "cell_type": "code",
   "execution_count": 19,
   "id": "3cdf7263",
   "metadata": {
    "execution": {
     "iopub.execute_input": "2023-02-21T09:25:15.695201Z",
     "iopub.status.busy": "2023-02-21T09:25:15.695065Z",
     "iopub.status.idle": "2023-02-21T09:25:15.704521Z",
     "shell.execute_reply": "2023-02-21T09:25:15.704120Z"
    }
   },
   "outputs": [],
   "source": [
    "_ = ok.grade('q_10_mae_func')"
   ]
  },
  {
   "cell_type": "markdown",
   "id": "8561003e",
   "metadata": {},
   "source": [
    "Use this function to calculate the mean absolute error of `wbc` for the candidate\n",
    "predictors you used before, from 7000 to 10000, in steps of 0.5.  You should\n",
    "calculate a mean absolute error for `wbc`, for each predictor."
   ]
  },
  {
   "cell_type": "code",
   "execution_count": 20,
   "id": "74959755",
   "metadata": {
    "execution": {
     "iopub.execute_input": "2023-02-21T09:25:15.707708Z",
     "iopub.status.busy": "2023-02-21T09:25:15.707573Z",
     "iopub.status.idle": "2023-02-21T09:25:16.294712Z",
     "shell.execute_reply": "2023-02-21T09:25:16.294355Z"
    }
   },
   "outputs": [],
   "source": [
    "n_predictors = len(predictors)\n",
    "mae_for_predictors = np.zeros(n_predictors)\n",
    "for i in np.arange(n_predictors):\n",
    "    mae_for_predictors[i] = mean_abs_err(wbc, predictors[i])\n",
    "# Show the first five mean absolute error values.\n",
    "mae_for_predictors[:5]"
   ]
  },
  {
   "cell_type": "code",
   "execution_count": 21,
   "id": "bc1ce896",
   "metadata": {
    "execution": {
     "iopub.execute_input": "2023-02-21T09:25:16.296613Z",
     "iopub.status.busy": "2023-02-21T09:25:16.296465Z",
     "iopub.status.idle": "2023-02-21T09:25:16.311156Z",
     "shell.execute_reply": "2023-02-21T09:25:16.310792Z"
    }
   },
   "outputs": [],
   "source": [
    "_ = ok.grade('q_11_mae_for_predictors')"
   ]
  },
  {
   "cell_type": "markdown",
   "id": "a405b9e1",
   "metadata": {},
   "source": [
    "Plot the `predictors` on the x axis against `mae_for_predictors` on the y axis."
   ]
  },
  {
   "cell_type": "code",
   "execution_count": 22,
   "id": "0e4256d3",
   "metadata": {
    "execution": {
     "iopub.execute_input": "2023-02-21T09:25:16.314638Z",
     "iopub.status.busy": "2023-02-21T09:25:16.314498Z",
     "iopub.status.idle": "2023-02-21T09:25:16.404353Z",
     "shell.execute_reply": "2023-02-21T09:25:16.403975Z"
    }
   },
   "outputs": [],
   "source": [
    "#- Plot mae_for_predictors against predictors\n",
    "plt.plot(predictors, mae_for_predictors)"
   ]
  },
  {
   "cell_type": "markdown",
   "id": "01a4b77b",
   "metadata": {},
   "source": [
    "Now calculate the mean absolute error for `wbc` using the mean as a predictor.\n",
    "Subtract this value from the minimum of `mae_for_predictors` and put the result\n",
    "into the variable `a_best_vs_mean`."
   ]
  },
  {
   "cell_type": "code",
   "execution_count": 23,
   "id": "903f5736",
   "metadata": {
    "execution": {
     "iopub.execute_input": "2023-02-21T09:25:16.406313Z",
     "iopub.status.busy": "2023-02-21T09:25:16.406166Z",
     "iopub.status.idle": "2023-02-21T09:25:16.409483Z",
     "shell.execute_reply": "2023-02-21T09:25:16.409078Z"
    }
   },
   "outputs": [],
   "source": [
    "a_best_vs_mean = np.min(mae_for_predictors) - mean_abs_err(wbc, wbc.mean())\n",
    "a_best_vs_mean"
   ]
  },
  {
   "cell_type": "code",
   "execution_count": 24,
   "id": "1ce627cd",
   "metadata": {
    "execution": {
     "iopub.execute_input": "2023-02-21T09:25:16.411323Z",
     "iopub.status.busy": "2023-02-21T09:25:16.411208Z",
     "iopub.status.idle": "2023-02-21T09:25:16.420902Z",
     "shell.execute_reply": "2023-02-21T09:25:16.420463Z"
    }
   },
   "outputs": [],
   "source": [
    "_ = ok.grade('q_12_a_best_vs_mean')"
   ]
  },
  {
   "cell_type": "markdown",
   "id": "a45f3db6",
   "metadata": {},
   "source": [
    "Calculate the median of `wbc`, calculate the mean absolute error for `wbc` using\n",
    "the median as predictor, and subtract the mean absolute error using the mean as\n",
    "predictor, putting the result into `a_median_vs_mean`"
   ]
  },
  {
   "cell_type": "code",
   "execution_count": 25,
   "id": "80782201",
   "metadata": {
    "execution": {
     "iopub.execute_input": "2023-02-21T09:25:16.424538Z",
     "iopub.status.busy": "2023-02-21T09:25:16.424396Z",
     "iopub.status.idle": "2023-02-21T09:25:16.427755Z",
     "shell.execute_reply": "2023-02-21T09:25:16.427350Z"
    }
   },
   "outputs": [],
   "source": [
    "mae_for_median = mean_abs_err(wbc, wbc.median())\n",
    "a_median_vs_mean = mae_for_median - mean_abs_err(wbc, wbc.mean())\n",
    "a_median_vs_mean"
   ]
  },
  {
   "cell_type": "code",
   "execution_count": 26,
   "id": "026c8c20",
   "metadata": {
    "execution": {
     "iopub.execute_input": "2023-02-21T09:25:16.429563Z",
     "iopub.status.busy": "2023-02-21T09:25:16.429416Z",
     "iopub.status.idle": "2023-02-21T09:25:16.438439Z",
     "shell.execute_reply": "2023-02-21T09:25:16.438063Z"
    }
   },
   "outputs": [],
   "source": [
    "_ = ok.grade('q_13_a_median_vs_mean')"
   ]
  },
  {
   "cell_type": "markdown",
   "id": "8e1fc2f9",
   "metadata": {},
   "source": [
    "Were you right in your speculation as to which of the median or mean would be a better predictor of the absolute value?"
   ]
  },
  {
   "cell_type": "markdown",
   "id": "66c11ffb",
   "metadata": {},
   "source": [
    "## Done\n",
    "\n",
    "You're finished with the assignment!  Be sure to...\n",
    "\n",
    "- **run all the tests** (the next cell has a shortcut for that),\n",
    "- **Save and Checkpoint** from the \"File\" menu."
   ]
  },
  {
   "cell_type": "code",
   "execution_count": 27,
   "id": "a3666aa6",
   "metadata": {
    "execution": {
     "iopub.execute_input": "2023-02-21T09:25:16.441970Z",
     "iopub.status.busy": "2023-02-21T09:25:16.441829Z",
     "iopub.status.idle": "2023-02-21T09:25:16.527406Z",
     "shell.execute_reply": "2023-02-21T09:25:16.527021Z"
    }
   },
   "outputs": [],
   "source": [
    "# For your convenience, you can run this cell to run all the tests at once!\n",
    "import os\n",
    "_ = [ok.grade(q[:-3]) for q in sorted(os.listdir(\"tests\")) if q.startswith('q')]"
   ]
  }
 ],
 "metadata": {
  "jupytext": {
   "split_at_heading": true,
   "text_representation": {
    "extension": ".Rmd",
    "format_name": "rmarkdown",
    "format_version": "1.1",
    "jupytext_version": "1.2.4"
   }
  },
  "kernelspec": {
   "display_name": "Python 3",
   "language": "python",
   "name": "python3"
  },
  "language_info": {
   "codemirror_mode": {
    "name": "ipython",
    "version": 3
   },
   "file_extension": ".py",
   "mimetype": "text/x-python",
   "name": "python",
   "nbconvert_exporter": "python",
   "pygments_lexer": "ipython3",
   "version": "3.10.9"
  }
 },
 "nbformat": 4,
 "nbformat_minor": 5
}
