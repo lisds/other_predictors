{
 "cells": [
  {
   "cell_type": "markdown",
   "id": "93295aa6",
   "metadata": {},
   "source": [
    "# Other predictors\n",
    "\n",
    "This exercise is a chance to practice working with predictors.\n",
    "\n",
    "First, set up the tests and imports by running the cell below."
   ]
  },
  {
   "cell_type": "code",
   "execution_count": 1,
   "id": "49aa8cdb",
   "metadata": {
    "execution": {
     "iopub.execute_input": "2022-10-31T09:04:37.355543Z",
     "iopub.status.busy": "2022-10-31T09:04:37.355110Z",
     "iopub.status.idle": "2022-10-31T09:04:37.960388Z",
     "shell.execute_reply": "2022-10-31T09:04:37.959998Z"
    }
   },
   "outputs": [],
   "source": [
    "# Run this cell.\n",
    "import numpy as np\n",
    "import pandas as pd\n",
    "import matplotlib.pyplot as plt\n",
    "plt.style.use('fivethirtyeight')\n",
    "\n",
    "# These lines load the tests.\n",
    "from client.api.notebook import Notebook\n",
    "ok = Notebook('other_predictors.ok')"
   ]
  },
  {
   "cell_type": "markdown",
   "id": "d29e5619",
   "metadata": {},
   "source": [
    "We were studying prediction errors [the meaning of the mean](https://lisds.github.io/textbook/mean-slopes/mean_meaning) notebook.\n",
    "\n",
    "In that notebook, you see the assertions that, *for any sequence of numbers*:\n",
    "\n",
    "* The mean gives the lowest sum of prediction errors (and therefore, mean\n",
    "  prediction error);\n",
    "* The mean gives the lowest sum of squared prediction error (and therefore mean\n",
    "  squared prediction error).\n",
    "\n",
    "As you remember, if you have a value $c$ that is a *predictor*, then you get the prediction error for every element in your sequence, by subtracting $c$ from that element.\n",
    "\n",
    "To be more specific, lets look at some [data on chronic kidney disease](https://lisds.github.io/textbook/data/chronic_kidney_disease).\n",
    "\n",
    "This is a data table with one row per patient and one column per test on that patient.  Many of columns are values from blood tests.  Most of the patients have chronic kidney disease."
   ]
  },
  {
   "cell_type": "code",
   "execution_count": 2,
   "id": "e8c9450c",
   "metadata": {
    "execution": {
     "iopub.execute_input": "2022-10-31T09:04:37.962742Z",
     "iopub.status.busy": "2022-10-31T09:04:37.962510Z",
     "iopub.status.idle": "2022-10-31T09:04:37.979882Z",
     "shell.execute_reply": "2022-10-31T09:04:37.979523Z"
    }
   },
   "outputs": [],
   "source": [
    "# Run this cell\n",
    "ckd = pd.read_csv('ckd_clean.csv')\n",
    "ckd.head()"
   ]
  },
  {
   "cell_type": "markdown",
   "id": "9c82e048",
   "metadata": {},
   "source": [
    "We are interested in the column 'White Blood Cell Count'.\n",
    "\n",
    "Make a new variable `wbc` that is a Series containing the \"White Blood Cell Count\" data.  Do a histogram of these values:"
   ]
  },
  {
   "cell_type": "code",
   "execution_count": 3,
   "id": "62197ec3",
   "metadata": {
    "execution": {
     "iopub.execute_input": "2022-10-31T09:04:37.981935Z",
     "iopub.status.busy": "2022-10-31T09:04:37.981772Z",
     "iopub.status.idle": "2022-10-31T09:04:38.084520Z",
     "shell.execute_reply": "2022-10-31T09:04:38.084135Z"
    }
   },
   "outputs": [],
   "source": [
    "wbc = ckd['White Blood Cell Count']\n",
    "wbc.hist()\n",
    "wbc.head()"
   ]
  },
  {
   "cell_type": "code",
   "execution_count": 4,
   "id": "ba034d09",
   "metadata": {
    "execution": {
     "iopub.execute_input": "2022-10-31T09:04:38.086670Z",
     "iopub.status.busy": "2022-10-31T09:04:38.086506Z",
     "iopub.status.idle": "2022-10-31T09:04:38.100960Z",
     "shell.execute_reply": "2022-10-31T09:04:38.100623Z"
    }
   },
   "outputs": [],
   "source": [
    "_ = ok.grade('q_1_wbc')"
   ]
  },
  {
   "cell_type": "markdown",
   "id": "c802224b",
   "metadata": {},
   "source": [
    "Could these values plausibly have been drawn from a normal distribution?\n",
    "\n",
    "Assign either 1, 2, or 3 to the name `wbc_likely_normal` below.\n",
    "\n",
    "1. Yes, that's plausible.\n",
    "2. There isn't enough evidence to be confident either way.\n",
    "3. No, that's not plausible."
   ]
  },
  {
   "cell_type": "code",
   "execution_count": 5,
   "id": "818528a7",
   "metadata": {
    "execution": {
     "iopub.execute_input": "2022-10-31T09:04:38.104770Z",
     "iopub.status.busy": "2022-10-31T09:04:38.104616Z",
     "iopub.status.idle": "2022-10-31T09:04:38.106644Z",
     "shell.execute_reply": "2022-10-31T09:04:38.106296Z"
    }
   },
   "outputs": [],
   "source": [
    "wbc_likely_normal = 3"
   ]
  },
  {
   "cell_type": "code",
   "execution_count": 6,
   "id": "2966a6fa",
   "metadata": {
    "execution": {
     "iopub.execute_input": "2022-10-31T09:04:38.108498Z",
     "iopub.status.busy": "2022-10-31T09:04:38.108345Z",
     "iopub.status.idle": "2022-10-31T09:04:38.118571Z",
     "shell.execute_reply": "2022-10-31T09:04:38.118139Z"
    }
   },
   "outputs": [],
   "source": [
    "_ = ok.grade('q_2_wbc_likely_normal')"
   ]
  },
  {
   "cell_type": "markdown",
   "id": "690eb35a",
   "metadata": {},
   "source": [
    "## Mean square error\n",
    "\n",
    "Make a function called `mean_sq_err` that accepts two inputs:\n",
    "\n",
    "1. a sequence of numbers\n",
    "1. a predictor (a single number)\n",
    "\n",
    "It returns the mean of the squared prediction errors.\n",
    "\n",
    "For example, say the sequence of numbers was `np.array([3, 4])`, and your\n",
    "predictor was 5.  Then the sum of squared prediction errors is `(3 - 5) **\n",
    "2 + (4 - 5) ** 2` = `5`, and the mean of the squared prediction errors is `5 / 2` = 2.5.\n"
   ]
  },
  {
   "cell_type": "code",
   "execution_count": 7,
   "id": "d5a81b8d",
   "metadata": {
    "execution": {
     "iopub.execute_input": "2022-10-31T09:04:38.122654Z",
     "iopub.status.busy": "2022-10-31T09:04:38.122404Z",
     "iopub.status.idle": "2022-10-31T09:04:38.124751Z",
     "shell.execute_reply": "2022-10-31T09:04:38.124425Z"
    }
   },
   "outputs": [],
   "source": [
    "def mean_sq_err(seq, p):\n",
    "    pred_errs = seq - p\n",
    "    sq_pred_errs = pred_errs ** 2\n",
    "    return np.mean(sq_pred_errs)"
   ]
  },
  {
   "cell_type": "markdown",
   "id": "b8eeecd3",
   "metadata": {},
   "source": [
    "Simple test with the following:"
   ]
  },
  {
   "cell_type": "code",
   "execution_count": 8,
   "id": "207978ac",
   "metadata": {
    "execution": {
     "iopub.execute_input": "2022-10-31T09:04:38.126792Z",
     "iopub.status.busy": "2022-10-31T09:04:38.126651Z",
     "iopub.status.idle": "2022-10-31T09:04:38.130773Z",
     "shell.execute_reply": "2022-10-31T09:04:38.130321Z"
    }
   },
   "outputs": [],
   "source": [
    "print(mean_sq_err(np.array([3, 4]), 5))  # Should show 2.5\n",
    "print(mean_sq_err(np.array([3, 5]), 4))  # Should show 1\n",
    "print(mean_sq_err(np.array([2, 3, 5]), 4))  # Should show 2"
   ]
  },
  {
   "cell_type": "code",
   "execution_count": 9,
   "id": "78be1823",
   "metadata": {
    "execution": {
     "iopub.execute_input": "2022-10-31T09:04:38.133413Z",
     "iopub.status.busy": "2022-10-31T09:04:38.133292Z",
     "iopub.status.idle": "2022-10-31T09:04:38.142716Z",
     "shell.execute_reply": "2022-10-31T09:04:38.142330Z"
    }
   },
   "outputs": [],
   "source": [
    "_ = ok.grade('q_6_mse_func')"
   ]
  },
  {
   "cell_type": "markdown",
   "id": "28714088",
   "metadata": {},
   "source": [
    "Use this function to calculate the mean squared error of `wbc` for candidate\n",
    "predictors from 7000, up to, but not including 10000, in steps of 0.5.  Your\n",
    "predictors should include 7000, 7000.5, 7001.0 ... 9999.5, and you should\n",
    "calculate a mean squared error for `wbc`, for each predictor."
   ]
  },
  {
   "cell_type": "code",
   "execution_count": 10,
   "id": "20681b69",
   "metadata": {
    "execution": {
     "iopub.execute_input": "2022-10-31T09:04:38.146584Z",
     "iopub.status.busy": "2022-10-31T09:04:38.146439Z",
     "iopub.status.idle": "2022-10-31T09:04:38.802115Z",
     "shell.execute_reply": "2022-10-31T09:04:38.801749Z"
    }
   },
   "outputs": [],
   "source": [
    "predictors = np.arange(7000, 10000, 0.5)\n",
    "n_predictors = len(predictors)\n",
    "mse_for_predictors = np.zeros(n_predictors)\n",
    "for i in np.arange(n_predictors):\n",
    "    mse_for_predictors[i] = mean_sq_err(wbc, predictors[i])\n",
    "# Show the first five mean squared error values.\n",
    "mse_for_predictors[:5]"
   ]
  },
  {
   "cell_type": "code",
   "execution_count": 11,
   "id": "bc3a33f0",
   "metadata": {
    "execution": {
     "iopub.execute_input": "2022-10-31T09:04:38.804122Z",
     "iopub.status.busy": "2022-10-31T09:04:38.803971Z",
     "iopub.status.idle": "2022-10-31T09:04:38.821006Z",
     "shell.execute_reply": "2022-10-31T09:04:38.820641Z"
    }
   },
   "outputs": [],
   "source": [
    "_ = ok.grade('q_7_mse_for_predictors')"
   ]
  },
  {
   "cell_type": "markdown",
   "id": "97c5cbab",
   "metadata": {},
   "source": [
    "Plot the `predictors` on the x axis against `mse_for_predictors` on the y axis."
   ]
  },
  {
   "cell_type": "code",
   "execution_count": 12,
   "id": "61b3705b",
   "metadata": {
    "execution": {
     "iopub.execute_input": "2022-10-31T09:04:38.824867Z",
     "iopub.status.busy": "2022-10-31T09:04:38.824718Z",
     "iopub.status.idle": "2022-10-31T09:04:38.912258Z",
     "shell.execute_reply": "2022-10-31T09:04:38.911859Z"
    }
   },
   "outputs": [],
   "source": [
    "#- Plot mse_for_predictors against predictors\n",
    "plt.plot(predictors, mse_for_predictors)"
   ]
  },
  {
   "cell_type": "markdown",
   "id": "d2b87996",
   "metadata": {},
   "source": [
    "Now calculate the mean squared error for `wbc` using the mean as a predictor.\n",
    "Subtract this value from the minimum of `mse_for_predictors` and put the result\n",
    "into the variable `best_vs_mean`:"
   ]
  },
  {
   "cell_type": "code",
   "execution_count": 13,
   "id": "10ee0a30",
   "metadata": {
    "execution": {
     "iopub.execute_input": "2022-10-31T09:04:38.914395Z",
     "iopub.status.busy": "2022-10-31T09:04:38.914241Z",
     "iopub.status.idle": "2022-10-31T09:04:38.917652Z",
     "shell.execute_reply": "2022-10-31T09:04:38.917255Z"
    }
   },
   "outputs": [],
   "source": [
    "best_vs_mean = np.min(mse_for_predictors) - mean_sq_err(wbc, wbc.mean())\n",
    "best_vs_mean"
   ]
  },
  {
   "cell_type": "code",
   "execution_count": 14,
   "id": "fd14df4b",
   "metadata": {
    "execution": {
     "iopub.execute_input": "2022-10-31T09:04:38.919565Z",
     "iopub.status.busy": "2022-10-31T09:04:38.919434Z",
     "iopub.status.idle": "2022-10-31T09:04:38.928874Z",
     "shell.execute_reply": "2022-10-31T09:04:38.928442Z"
    }
   },
   "outputs": [],
   "source": [
    "_ = ok.grade('q_8_best_vs_mean')"
   ]
  },
  {
   "cell_type": "markdown",
   "id": "96836143",
   "metadata": {},
   "source": [
    "Calculate the median of `wbc`, calculate the mean squared error for `wbc` using the median as predictor, and subtract the mean squared error using the mean as predictor, putting the result into `median_vs_mean`"
   ]
  },
  {
   "cell_type": "code",
   "execution_count": 15,
   "id": "31a62290",
   "metadata": {
    "execution": {
     "iopub.execute_input": "2022-10-31T09:04:38.932579Z",
     "iopub.status.busy": "2022-10-31T09:04:38.932431Z",
     "iopub.status.idle": "2022-10-31T09:04:38.936101Z",
     "shell.execute_reply": "2022-10-31T09:04:38.935730Z"
    }
   },
   "outputs": [],
   "source": [
    "mse_for_median = mean_sq_err(wbc, wbc.median())\n",
    "median_vs_mean = mse_for_median - mean_sq_err(wbc, wbc.mean())\n",
    "median_vs_mean"
   ]
  },
  {
   "cell_type": "code",
   "execution_count": 16,
   "id": "e6593b36",
   "metadata": {
    "execution": {
     "iopub.execute_input": "2022-10-31T09:04:38.938044Z",
     "iopub.status.busy": "2022-10-31T09:04:38.937890Z",
     "iopub.status.idle": "2022-10-31T09:04:38.946990Z",
     "shell.execute_reply": "2022-10-31T09:04:38.946551Z"
    }
   },
   "outputs": [],
   "source": [
    "_ = ok.grade('q_9_median_vs_mean')"
   ]
  },
  {
   "cell_type": "markdown",
   "id": "43241658",
   "metadata": {},
   "source": [
    "## Mean absolute error\n",
    "\n",
    "You have dealt with one measure of a predictor - the mean square prediction\n",
    "error.\n",
    "\n",
    "Another measure of a predictor is its ability to reduce the *absolute* error.\n",
    "\n",
    "For example, say we have a sequence `3, 4`, and a predictor `5`.  The absolute\n",
    "errors are `abs(3 - 5), abs(4 - 5)`, and the mean absolute error is then\n",
    "(2 + 1) / 2 = 1.5.\n",
    "\n",
    "Before you continue, take some time to think whether you think the mean or the\n",
    "median will do a better job here.  Write down your answer *on the piece of\n",
    "paper you already had next to you on the desk*!\n",
    "\n",
    "Write a function `mean_abs_err` to do this prediction for a sequence `seq` and\n",
    "a predictor `p`.\n",
    "\n",
    "*Hint*: remember the Numpy function to return the absolute values in an array."
   ]
  },
  {
   "cell_type": "code",
   "execution_count": 17,
   "id": "25ecda32",
   "metadata": {
    "execution": {
     "iopub.execute_input": "2022-10-31T09:04:38.950832Z",
     "iopub.status.busy": "2022-10-31T09:04:38.950684Z",
     "iopub.status.idle": "2022-10-31T09:04:38.952899Z",
     "shell.execute_reply": "2022-10-31T09:04:38.952559Z"
    }
   },
   "outputs": [],
   "source": [
    "def mean_abs_err(seq, p):\n",
    "    abs_pred_errs = np.abs(seq - p)\n",
    "    return np.mean(abs_pred_errs)"
   ]
  },
  {
   "cell_type": "markdown",
   "id": "a0a7f72f",
   "metadata": {},
   "source": [
    "Simple test with the following:"
   ]
  },
  {
   "cell_type": "code",
   "execution_count": 18,
   "id": "03f5eb8e",
   "metadata": {
    "execution": {
     "iopub.execute_input": "2022-10-31T09:04:38.954864Z",
     "iopub.status.busy": "2022-10-31T09:04:38.954721Z",
     "iopub.status.idle": "2022-10-31T09:04:38.958952Z",
     "shell.execute_reply": "2022-10-31T09:04:38.958620Z"
    }
   },
   "outputs": [],
   "source": [
    "print(mean_abs_err(np.array([3, 4]), 5))  # Should show 1.5\n",
    "print(mean_abs_err(np.array([3, 5]), 4))  # Should show 1\n",
    "print(mean_abs_err(np.array([2, 3, 5]), 4))  # Should show 1.333 ish"
   ]
  },
  {
   "cell_type": "code",
   "execution_count": 19,
   "id": "02fd18fb",
   "metadata": {
    "execution": {
     "iopub.execute_input": "2022-10-31T09:04:38.961619Z",
     "iopub.status.busy": "2022-10-31T09:04:38.961476Z",
     "iopub.status.idle": "2022-10-31T09:04:38.970726Z",
     "shell.execute_reply": "2022-10-31T09:04:38.970344Z"
    }
   },
   "outputs": [],
   "source": [
    "_ = ok.grade('q_10_mae_func')"
   ]
  },
  {
   "cell_type": "markdown",
   "id": "ee08bd13",
   "metadata": {},
   "source": [
    "Use this function to calculate the mean absolute error of `wbc` for the candidate\n",
    "predictors you used before, from 7000 to 10000, in steps of 0.5.  You should\n",
    "calculate a mean absolute error for `wbc`, for each predictor."
   ]
  },
  {
   "cell_type": "code",
   "execution_count": 20,
   "id": "be63352c",
   "metadata": {
    "execution": {
     "iopub.execute_input": "2022-10-31T09:04:38.974441Z",
     "iopub.status.busy": "2022-10-31T09:04:38.974295Z",
     "iopub.status.idle": "2022-10-31T09:04:39.543716Z",
     "shell.execute_reply": "2022-10-31T09:04:39.543386Z"
    }
   },
   "outputs": [],
   "source": [
    "n_predictors = len(predictors)\n",
    "mae_for_predictors = np.zeros(n_predictors)\n",
    "for i in np.arange(n_predictors):\n",
    "    mae_for_predictors[i] = mean_abs_err(wbc, predictors[i])\n",
    "# Show the first five mean absolute error values.\n",
    "mae_for_predictors[:5]"
   ]
  },
  {
   "cell_type": "code",
   "execution_count": 21,
   "id": "fea7b319",
   "metadata": {
    "execution": {
     "iopub.execute_input": "2022-10-31T09:04:39.545586Z",
     "iopub.status.busy": "2022-10-31T09:04:39.545443Z",
     "iopub.status.idle": "2022-10-31T09:04:39.559734Z",
     "shell.execute_reply": "2022-10-31T09:04:39.559341Z"
    }
   },
   "outputs": [],
   "source": [
    "_ = ok.grade('q_11_mae_for_predictors')"
   ]
  },
  {
   "cell_type": "markdown",
   "id": "c42f880d",
   "metadata": {},
   "source": [
    "Plot the `predictors` on the x axis against `mae_for_predictors` on the y axis."
   ]
  },
  {
   "cell_type": "code",
   "execution_count": 22,
   "id": "d12a688f",
   "metadata": {
    "execution": {
     "iopub.execute_input": "2022-10-31T09:04:39.563434Z",
     "iopub.status.busy": "2022-10-31T09:04:39.563284Z",
     "iopub.status.idle": "2022-10-31T09:04:39.652355Z",
     "shell.execute_reply": "2022-10-31T09:04:39.651978Z"
    }
   },
   "outputs": [],
   "source": [
    "#- Plot mae_for_predictors against predictors\n",
    "plt.plot(predictors, mae_for_predictors)"
   ]
  },
  {
   "cell_type": "markdown",
   "id": "8d74a725",
   "metadata": {},
   "source": [
    "Now calculate the mean absolute error for `wbc` using the mean as a predictor.\n",
    "Subtract this value from the minimum of `mae_for_predictors` and put the result\n",
    "into the variable `a_best_vs_mean`."
   ]
  },
  {
   "cell_type": "code",
   "execution_count": 23,
   "id": "4c8f32d0",
   "metadata": {
    "execution": {
     "iopub.execute_input": "2022-10-31T09:04:39.654368Z",
     "iopub.status.busy": "2022-10-31T09:04:39.654213Z",
     "iopub.status.idle": "2022-10-31T09:04:39.657383Z",
     "shell.execute_reply": "2022-10-31T09:04:39.656999Z"
    }
   },
   "outputs": [],
   "source": [
    "a_best_vs_mean = np.min(mae_for_predictors) - mean_abs_err(wbc, wbc.mean())\n",
    "a_best_vs_mean"
   ]
  },
  {
   "cell_type": "code",
   "execution_count": 24,
   "id": "5d13a012",
   "metadata": {
    "execution": {
     "iopub.execute_input": "2022-10-31T09:04:39.659297Z",
     "iopub.status.busy": "2022-10-31T09:04:39.659147Z",
     "iopub.status.idle": "2022-10-31T09:04:39.668838Z",
     "shell.execute_reply": "2022-10-31T09:04:39.668412Z"
    }
   },
   "outputs": [],
   "source": [
    "_ = ok.grade('q_12_a_best_vs_mean')"
   ]
  },
  {
   "cell_type": "markdown",
   "id": "dac95111",
   "metadata": {},
   "source": [
    "Calculate the median of `wbc`, calculate the mean absolute error for `wbc` using\n",
    "the median as predictor, and subtract the mean absolute error using the mean as\n",
    "predictor, putting the result into `a_median_vs_mean`"
   ]
  },
  {
   "cell_type": "code",
   "execution_count": 25,
   "id": "64e60caf",
   "metadata": {
    "execution": {
     "iopub.execute_input": "2022-10-31T09:04:39.672712Z",
     "iopub.status.busy": "2022-10-31T09:04:39.672568Z",
     "iopub.status.idle": "2022-10-31T09:04:39.676164Z",
     "shell.execute_reply": "2022-10-31T09:04:39.675822Z"
    }
   },
   "outputs": [],
   "source": [
    "mae_for_median = mean_abs_err(wbc, wbc.median())\n",
    "a_median_vs_mean = mae_for_median - mean_abs_err(wbc, wbc.mean())\n",
    "a_median_vs_mean"
   ]
  },
  {
   "cell_type": "code",
   "execution_count": 26,
   "id": "5fa1dcd0",
   "metadata": {
    "execution": {
     "iopub.execute_input": "2022-10-31T09:04:39.678081Z",
     "iopub.status.busy": "2022-10-31T09:04:39.677932Z",
     "iopub.status.idle": "2022-10-31T09:04:39.687089Z",
     "shell.execute_reply": "2022-10-31T09:04:39.686642Z"
    }
   },
   "outputs": [],
   "source": [
    "_ = ok.grade('q_13_a_median_vs_mean')"
   ]
  },
  {
   "cell_type": "markdown",
   "id": "9e5750d0",
   "metadata": {},
   "source": [
    "Were you right in your speculation as to which of the median or mean would be a better predictor of the absolute value?"
   ]
  },
  {
   "cell_type": "markdown",
   "id": "d3ce2e26",
   "metadata": {},
   "source": [
    "## Done\n",
    "\n",
    "You're finished with the assignment!  Be sure to...\n",
    "\n",
    "- **run all the tests** (the next cell has a shortcut for that),\n",
    "- **Save and Checkpoint** from the \"File\" menu."
   ]
  },
  {
   "cell_type": "code",
   "execution_count": 27,
   "id": "821b0dda",
   "metadata": {
    "execution": {
     "iopub.execute_input": "2022-10-31T09:04:39.690848Z",
     "iopub.status.busy": "2022-10-31T09:04:39.690705Z",
     "iopub.status.idle": "2022-10-31T09:04:39.779223Z",
     "shell.execute_reply": "2022-10-31T09:04:39.778808Z"
    }
   },
   "outputs": [],
   "source": [
    "# For your convenience, you can run this cell to run all the tests at once!\n",
    "import os\n",
    "_ = [ok.grade(q[:-3]) for q in sorted(os.listdir(\"tests\")) if q.startswith('q')]"
   ]
  }
 ],
 "metadata": {
  "jupytext": {
   "split_at_heading": true,
   "text_representation": {
    "extension": ".Rmd",
    "format_name": "rmarkdown",
    "format_version": "1.1",
    "jupytext_version": "1.2.4"
   }
  },
  "kernelspec": {
   "display_name": "Python 3",
   "language": "python",
   "name": "python3"
  },
  "language_info": {
   "codemirror_mode": {
    "name": "ipython",
    "version": 3
   },
   "file_extension": ".py",
   "mimetype": "text/x-python",
   "name": "python",
   "nbconvert_exporter": "python",
   "pygments_lexer": "ipython3",
   "version": "3.10.7"
  }
 },
 "nbformat": 4,
 "nbformat_minor": 5
}
